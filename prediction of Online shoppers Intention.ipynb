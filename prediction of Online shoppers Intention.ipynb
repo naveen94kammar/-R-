{
 "cells": [
  {
   "cell_type": "code",
   "execution_count": 5,
   "metadata": {},
   "outputs": [
    {
     "data": {
      "text/plain": [
       "\n",
       "FALSE  TRUE \n",
       "10422  1908 "
      ]
     },
     "metadata": {},
     "output_type": "display_data"
    },
    {
     "name": "stderr",
     "output_type": "stream",
     "text": [
      "Warning message:\n",
      "\"package 'funModeling' is in use and will not be installed\"Warning message:\n",
      "\"package 'GGally' is in use and will not be installed\"Warning message:\n",
      "\"package 'tidyverse' is in use and will not be installed\"Warning message:\n",
      "\"package 'MLmetrics' is in use and will not be installed\"Warning message:\n",
      "\"package 'caret' is in use and will not be installed\"Warning message:\n",
      "\"package 'C50' is in use and will not be installed\"Warning message:\n",
      "\"package 'class' is in use and will not be installed\"Warning message:\n",
      "\"package 'e1071' is in use and will not be installed\"Warning message:\n",
      "\"package 'SuperLearner' is in use and will not be installed\"Warning message:\n",
      "\"package 'ranger' is in use and will not be installed\"Warning message:\n",
      "\"package 'kernlab' is in use and will not be installed\"Warning message:\n",
      "\"package 'ipred' is in use and will not be installed\"Warning message:\n",
      "\"package 'arm' is in use and will not be installed\""
     ]
    }
   ],
   "source": [
    "shop<-read.csv(\"https://archive.ics.uci.edu/ml/machine-learning-databases/00468/online_shoppers_intention.csv\")\n",
    "\n",
    "table(shop$Revenue)\n",
    "\n",
    "install.packages(\"funModeling\")\n",
    "install.packages(\"GGally\")\n",
    "install.packages(\"tidyverse\")\n",
    "install.packages(\"MLmetrics\")\n",
    "install.packages(\"caret\")\n",
    "install.packages(\"C50\")\n",
    "install.packages(\"class\")\n",
    "install.packages(\"e1071\")\n",
    "install.packages(\"SuperLearner\")\n",
    "install.packages(\"ranger\")\n",
    "install.packages(\"kernlab\")\n",
    "install.packages(\"ipred\")\n",
    "install.packages(\"arm\")\n",
    "\n",
    "library(funModeling)\n",
    "library(GGally)\n",
    "library(tidyverse)\n",
    "library(MLmetrics)\n",
    "library(caret)\n",
    "library(C50)\n",
    "library(class)\n",
    "library(e1071)\n",
    "library(SuperLearner)\n",
    "library(ranger)\n",
    "library(kernlab)\n",
    "library(ipred)\n",
    "library(arm)\n"
   ]
  },
  {
   "cell_type": "markdown",
   "metadata": {},
   "source": [
    "# DATA EXPLORATION"
   ]
  },
  {
   "cell_type": "code",
   "execution_count": 11,
   "metadata": {},
   "outputs": [
    {
     "data": {
      "text/plain": [
       " Administrative   Administrative_Duration Informational    \n",
       " Min.   : 0.000   Min.   :   0.00         Min.   : 0.0000  \n",
       " 1st Qu.: 0.000   1st Qu.:   0.00         1st Qu.: 0.0000  \n",
       " Median : 1.000   Median :   7.50         Median : 0.0000  \n",
       " Mean   : 2.315   Mean   :  80.82         Mean   : 0.5036  \n",
       " 3rd Qu.: 4.000   3rd Qu.:  93.26         3rd Qu.: 0.0000  \n",
       " Max.   :27.000   Max.   :3398.75         Max.   :24.0000  \n",
       "                                                           \n",
       " Informational_Duration ProductRelated   ProductRelated_Duration\n",
       " Min.   :   0.00        Min.   :  0.00   Min.   :    0.0        \n",
       " 1st Qu.:   0.00        1st Qu.:  7.00   1st Qu.:  184.1        \n",
       " Median :   0.00        Median : 18.00   Median :  598.9        \n",
       " Mean   :  34.47        Mean   : 31.73   Mean   : 1194.8        \n",
       " 3rd Qu.:   0.00        3rd Qu.: 38.00   3rd Qu.: 1464.2        \n",
       " Max.   :2549.38        Max.   :705.00   Max.   :63973.5        \n",
       "                                                                \n",
       "  BounceRates         ExitRates         PageValues        SpecialDay     \n",
       " Min.   :0.000000   Min.   :0.00000   Min.   :  0.000   Min.   :0.00000  \n",
       " 1st Qu.:0.000000   1st Qu.:0.01429   1st Qu.:  0.000   1st Qu.:0.00000  \n",
       " Median :0.003112   Median :0.02516   Median :  0.000   Median :0.00000  \n",
       " Mean   :0.022191   Mean   :0.04307   Mean   :  5.889   Mean   :0.06143  \n",
       " 3rd Qu.:0.016813   3rd Qu.:0.05000   3rd Qu.:  0.000   3rd Qu.:0.00000  \n",
       " Max.   :0.200000   Max.   :0.20000   Max.   :361.764   Max.   :1.00000  \n",
       "                                                                         \n",
       "     Month      OperatingSystems    Browser           Region     \n",
       " May    :3364   Min.   :1.000    Min.   : 1.000   Min.   :1.000  \n",
       " Nov    :2998   1st Qu.:2.000    1st Qu.: 2.000   1st Qu.:1.000  \n",
       " Mar    :1907   Median :2.000    Median : 2.000   Median :3.000  \n",
       " Dec    :1727   Mean   :2.124    Mean   : 2.357   Mean   :3.147  \n",
       " Oct    : 549   3rd Qu.:3.000    3rd Qu.: 2.000   3rd Qu.:4.000  \n",
       " Sep    : 448   Max.   :8.000    Max.   :13.000   Max.   :9.000  \n",
       " (Other):1337                                                    \n",
       "  TrafficType               VisitorType     Weekend         Revenue       \n",
       " Min.   : 1.00   New_Visitor      : 1694   Mode :logical   Mode :logical  \n",
       " 1st Qu.: 2.00   Other            :   85   FALSE:9462      FALSE:10422    \n",
       " Median : 2.00   Returning_Visitor:10551   TRUE :2868      TRUE :1908     \n",
       " Mean   : 4.07                                                            \n",
       " 3rd Qu.: 4.00                                                            \n",
       " Max.   :20.00                                                            \n",
       "                                                                          "
      ]
     },
     "metadata": {},
     "output_type": "display_data"
    },
    {
     "name": "stdout",
     "output_type": "stream",
     "text": [
      "'data.frame':\t12330 obs. of  18 variables:\n",
      " $ Administrative         : int  0 0 0 0 0 0 0 1 0 0 ...\n",
      " $ Administrative_Duration: num  0 0 0 0 0 0 0 0 0 0 ...\n",
      " $ Informational          : int  0 0 0 0 0 0 0 0 0 0 ...\n",
      " $ Informational_Duration : num  0 0 0 0 0 0 0 0 0 0 ...\n",
      " $ ProductRelated         : int  1 2 1 2 10 19 1 0 2 3 ...\n",
      " $ ProductRelated_Duration: num  0 64 0 2.67 627.5 ...\n",
      " $ BounceRates            : num  0.2 0 0.2 0.05 0.02 ...\n",
      " $ ExitRates              : num  0.2 0.1 0.2 0.14 0.05 ...\n",
      " $ PageValues             : num  0 0 0 0 0 0 0 0 0 0 ...\n",
      " $ SpecialDay             : num  0 0 0 0 0 0 0.4 0 0.8 0.4 ...\n",
      " $ Month                  : Factor w/ 10 levels \"Aug\",\"Dec\",\"Feb\",..: 3 3 3 3 3 3 3 3 3 3 ...\n",
      " $ OperatingSystems       : int  1 2 4 3 3 2 2 1 2 2 ...\n",
      " $ Browser                : int  1 2 1 2 3 2 4 2 2 4 ...\n",
      " $ Region                 : int  1 1 9 2 1 1 3 1 2 1 ...\n",
      " $ TrafficType            : int  1 2 3 4 4 3 3 5 3 2 ...\n",
      " $ VisitorType            : Factor w/ 3 levels \"New_Visitor\",..: 3 3 3 3 3 3 3 3 3 3 ...\n",
      " $ Weekend                : logi  FALSE FALSE FALSE FALSE TRUE FALSE ...\n",
      " $ Revenue                : logi  FALSE FALSE FALSE FALSE FALSE FALSE ...\n"
     ]
    },
    {
     "data": {
      "text/html": [
       "12330"
      ],
      "text/latex": [
       "12330"
      ],
      "text/markdown": [
       "12330"
      ],
      "text/plain": [
       "[1] 12330"
      ]
     },
     "metadata": {},
     "output_type": "display_data"
    }
   ],
   "source": [
    "summary(shop)\n",
    "str(shop)\n",
    "nrow(shop)\n"
   ]
  },
  {
   "cell_type": "code",
   "execution_count": 13,
   "metadata": {},
   "outputs": [
    {
     "data": {
      "image/png": "[encoded data removed]",
      "text/plain": [
       "plot without title"
      ]
     },
     "metadata": {},
     "output_type": "display_data"
    },
    {
     "data": {
      "image/png": "[encoded data removed]",
      "text/plain": [
       "plot without title"
      ]
     },
     "metadata": {},
     "output_type": "display_data"
    }
   ],
   "source": [
    "#\"funModeling\", #Package gives us colourful frequency plots  \n",
    "\n",
    "shop_num <- shop[1:10] \n",
    "\n",
    "print(plot_num(shop_num)) # Histogram of all the continuous variables\n",
    "\n"
   ]
  },
  {
   "cell_type": "code",
   "execution_count": 14,
   "metadata": {
    "scrolled": false
   },
   "outputs": [
    {
     "name": "stdout",
     "output_type": "stream",
     "text": [
      "   Month frequency percentage cumulative_perc\n",
      "1    May      3364      27.28           27.28\n",
      "2    Nov      2998      24.31           51.59\n",
      "3    Mar      1907      15.47           67.06\n",
      "4    Dec      1727      14.01           81.07\n",
      "5    Oct       549       4.45           85.52\n",
      "6    Sep       448       3.63           89.15\n",
      "7    Aug       433       3.51           92.66\n",
      "8    Jul       432       3.50           96.16\n",
      "9   June       288       2.34           98.50\n",
      "10   Feb       184       1.49          100.00\n",
      "\n"
     ]
    },
    {
     "data": {
      "image/png": "[encoded data removed]",
      "text/plain": [
       "plot without title"
      ]
     },
     "metadata": {},
     "output_type": "display_data"
    },
    {
     "name": "stdout",
     "output_type": "stream",
     "text": [
      "  OperatingSystems frequency percentage cumulative_perc\n",
      "1                2      6601      53.54           53.54\n",
      "2                1      2585      20.97           74.51\n",
      "3                3      2555      20.72           95.23\n",
      "4                4       478       3.88           99.11\n",
      "5                8        79       0.64           99.75\n",
      "6                6        19       0.15           99.90\n",
      "7                7         7       0.06           99.96\n",
      "8                5         6       0.05          100.00\n",
      "\n"
     ]
    },
    {
     "data": {
      "image/png": "[encoded data removed]",
      "text/plain": [
       "plot without title"
      ]
     },
     "metadata": {},
     "output_type": "display_data"
    },
    {
     "name": "stdout",
     "output_type": "stream",
     "text": [
      "   Browser frequency percentage cumulative_perc\n",
      "1        2      7961      64.57           64.57\n",
      "2        1      2462      19.97           84.54\n",
      "3        4       736       5.97           90.51\n",
      "4        5       467       3.79           94.30\n",
      "5        6       174       1.41           95.71\n",
      "6       10       163       1.32           97.03\n",
      "7        8       135       1.09           98.12\n",
      "8        3       105       0.85           98.97\n",
      "9       13        61       0.49           99.46\n",
      "10       7        49       0.40           99.86\n",
      "11      12        10       0.08           99.94\n",
      "12      11         6       0.05           99.99\n",
      "13       9         1       0.01          100.00\n",
      "\n"
     ]
    },
    {
     "data": {
      "image/png": "[encoded data removed]",
      "text/plain": [
       "plot without title"
      ]
     },
     "metadata": {},
     "output_type": "display_data"
    },
    {
     "name": "stdout",
     "output_type": "stream",
     "text": [
      "  Region frequency percentage cumulative_perc\n",
      "1      1      4780      38.77           38.77\n",
      "2      3      2403      19.49           58.26\n",
      "3      4      1182       9.59           67.85\n",
      "4      2      1136       9.21           77.06\n",
      "5      6       805       6.53           83.59\n",
      "6      7       761       6.17           89.76\n",
      "7      9       511       4.14           93.90\n",
      "8      8       434       3.52           97.42\n",
      "9      5       318       2.58          100.00\n",
      "\n"
     ]
    },
    {
     "data": {
      "image/png": "[encoded data removed]",
      "text/plain": [
       "plot without title"
      ]
     },
     "metadata": {},
     "output_type": "display_data"
    },
    {
     "name": "stdout",
     "output_type": "stream",
     "text": [
      "   TrafficType frequency percentage cumulative_perc\n",
      "1            2      3913      31.74           31.74\n",
      "2            1      2451      19.88           51.62\n",
      "3            3      2052      16.64           68.26\n",
      "4            4      1069       8.67           76.93\n",
      "5           13       738       5.99           82.92\n",
      "6           10       450       3.65           86.57\n",
      "7            6       444       3.60           90.17\n",
      "8            8       343       2.78           92.95\n",
      "9            5       260       2.11           95.06\n",
      "10          11       247       2.00           97.06\n",
      "11          20       198       1.61           98.67\n",
      "12           9        42       0.34           99.01\n",
      "13           7        40       0.32           99.33\n",
      "14          15        38       0.31           99.64\n",
      "15          19        17       0.14           99.78\n",
      "16          14        13       0.11           99.89\n",
      "17          18        10       0.08           99.97\n",
      "18          16         3       0.02           99.99\n",
      "19          12         1       0.01          100.00\n",
      "20          17         1       0.01          100.00\n",
      "\n"
     ]
    },
    {
     "data": {
      "image/png": "[encoded data removed]",
      "text/plain": [
       "plot without title"
      ]
     },
     "metadata": {},
     "output_type": "display_data"
    },
    {
     "name": "stdout",
     "output_type": "stream",
     "text": [
      "        VisitorType frequency percentage cumulative_perc\n",
      "1 Returning_Visitor     10551      85.57           85.57\n",
      "2       New_Visitor      1694      13.74           99.31\n",
      "3             Other        85       0.69          100.00\n",
      "\n"
     ]
    },
    {
     "data": {
      "image/png": "[encoded data removed]",
      "text/plain": [
       "plot without title"
      ]
     },
     "metadata": {},
     "output_type": "display_data"
    },
    {
     "name": "stdout",
     "output_type": "stream",
     "text": [
      "  Weekend frequency percentage cumulative_perc\n",
      "1   FALSE      9462      76.74           76.74\n",
      "2    TRUE      2868      23.26          100.00\n",
      "\n"
     ]
    },
    {
     "data": {
      "image/png": "[encoded data removed]",
      "text/plain": [
       "plot without title"
      ]
     },
     "metadata": {},
     "output_type": "display_data"
    },
    {
     "name": "stdout",
     "output_type": "stream",
     "text": [
      "  Revenue frequency percentage cumulative_perc\n",
      "1   FALSE     10422      84.53           84.53\n",
      "2    TRUE      1908      15.47          100.00\n",
      "\n",
      "[1] \"Variables processed: Month, OperatingSystems, Browser, Region, TrafficType, VisitorType, Weekend, Revenue\"\n"
     ]
    },
    {
     "data": {
      "image/png": "[encoded data removed]",
      "text/plain": [
       "plot without title"
      ]
     },
     "metadata": {},
     "output_type": "display_data"
    }
   ],
   "source": [
    "shop_cat <- shop[11:18]\n",
    "\n",
    "shop_cat$OperatingSystems<- as.factor(shop_cat$OperatingSystems)\n",
    "shop_cat$Browser<- as.factor(shop_cat$Browser)\n",
    "shop_cat$Region<- as.factor(shop_cat$Region)\n",
    "shop_cat$TrafficType<- as.factor(shop_cat$TrafficType)\n",
    "shop_cat$Weekend<- as.factor(shop$Weekend)\n",
    "shop_cat$Revenue<- as.factor(shop_cat$Revenue)\n",
    "\n",
    "print(freq(shop_cat)) # Frequency & frequency plots of catergorical variables\n"
   ]
  },
  {
   "cell_type": "code",
   "execution_count": 16,
   "metadata": {},
   "outputs": [
    {
     "ename": "ERROR",
     "evalue": "Error in plot(shop_out$BounceRates, shop_out$Revenue, xlab = \"BounceRates\", : object 'shop_out' not found\n",
     "output_type": "error",
     "traceback": [
      "Error in plot(shop_out$BounceRates, shop_out$Revenue, xlab = \"BounceRates\", : object 'shop_out' not found\nTraceback:\n",
      "1. plot(shop_out$BounceRates, shop_out$Revenue, xlab = \"BounceRates\", \n .     ylab = \"Revenue\")"
     ]
    },
    {
     "data": {
      "image/png": "[encoded data removed]",
      "text/plain": [
       "plot without title"
      ]
     },
     "metadata": {},
     "output_type": "display_data"
    }
   ],
   "source": [
    "dat<- shop\n",
    "\n",
    "dat$Month<- as.numeric(dat$Month)\n",
    "dat$VisitorType<- as.numeric(dat$VisitorType)\n",
    "\n",
    "M<-cor(dat)\n",
    "ggcorr(M)\n"
   ]
  },
  {
   "cell_type": "code",
   "execution_count": 20,
   "metadata": {},
   "outputs": [
    {
     "data": {
      "image/png": "[encoded data removed]",
      "text/plain": [
       "plot without title"
      ]
     },
     "metadata": {},
     "output_type": "display_data"
    }
   ],
   "source": [
    "plot(shop$BounceRates,shop$Revenue,xlab = \"BounceRates\",ylab=\"Revenue\") \n",
    "# We can notice when the bounce rate is close to zero,The customer is more likely to develop revnue.\n",
    "#Bounce rate is an Internet marketing term used in web traffic analysis. It represents the percentage of visitors who enter the\n",
    "#site and then leave (\"bounce\") rather than continuing to view other pages within the same site."
   ]
  },
  {
   "cell_type": "code",
   "execution_count": 18,
   "metadata": {
    "scrolled": false
   },
   "outputs": [
    {
     "data": {
      "image/png": "[encoded data removed]",
      "text/plain": [
       "plot without title"
      ]
     },
     "metadata": {},
     "output_type": "display_data"
    }
   ],
   "source": [
    "plot(shop$ExitRates,shop$Revenue,xlab = \"ExitRates\",ylab = \"Revenue\")\n"
   ]
  },
  {
   "cell_type": "code",
   "execution_count": 21,
   "metadata": {},
   "outputs": [
    {
     "data": {
      "image/png": "[encoded data removed]",
      "text/plain": [
       "plot without title"
      ]
     },
     "metadata": {},
     "output_type": "display_data"
    }
   ],
   "source": [
    "dat1<- shop %>% filter(shop$Revenue==1)\n",
    "ggplot(dat1, aes(dat1$Month, ..count..)) + geom_bar(aes(fill = dat1$Revenue), position = \"dodge\") + labs(x=\"Month\",y=\"Revenue\")\n",
    "# We can notice most number of transactions occur in the month of November\n"
   ]
  },
  {
   "cell_type": "markdown",
   "metadata": {},
   "source": [
    "## Fitting a Decison Tree "
   ]
  },
  {
   "cell_type": "code",
   "execution_count": 27,
   "metadata": {
    "scrolled": false
   },
   "outputs": [
    {
     "name": "stderr",
     "output_type": "stream",
     "text": [
      "Warning message:\n",
      "\"package 'RWeka' is in use and will not be installed\""
     ]
    },
    {
     "data": {
      "text/plain": [
       "\n",
       "=== Summary ===\n",
       "\n",
       "Correctly Classified Instances        8732               94.4204 %\n",
       "Incorrectly Classified Instances       516                5.5796 %\n",
       "Kappa statistic                          0.775 \n",
       "Mean absolute error                      0.0983\n",
       "Root mean squared error                  0.2217\n",
       "Relative absolute error                 37.5646 %\n",
       "Root relative squared error             61.296  %\n",
       "Total Number of Instances             9248     \n",
       "\n",
       "=== Confusion Matrix ===\n",
       "\n",
       "    a    b   <-- classified as\n",
       " 7650  167 |    a = FALSE\n",
       "  349 1082 |    b = TRUE"
      ]
     },
     "metadata": {},
     "output_type": "display_data"
    },
    {
     "data": {
      "text/plain": [
       "Confusion Matrix and Statistics\n",
       "\n",
       "          Reference\n",
       "Prediction FALSE TRUE\n",
       "     FALSE  2470  212\n",
       "     TRUE    135  265\n",
       "                                          \n",
       "               Accuracy : 0.8874          \n",
       "                 95% CI : (0.8757, 0.8984)\n",
       "    No Information Rate : 0.8452          \n",
       "    P-Value [Acc > NIR] : 9.322e-12       \n",
       "                                          \n",
       "                  Kappa : 0.5393          \n",
       "                                          \n",
       " Mcnemar's Test P-Value : 4.506e-05       \n",
       "                                          \n",
       "            Sensitivity : 0.9482          \n",
       "            Specificity : 0.5556          \n",
       "         Pos Pred Value : 0.9210          \n",
       "         Neg Pred Value : 0.6625          \n",
       "             Prevalence : 0.8452          \n",
       "         Detection Rate : 0.8014          \n",
       "   Detection Prevalence : 0.8702          \n",
       "      Balanced Accuracy : 0.7519          \n",
       "                                          \n",
       "       'Positive' Class : FALSE           \n",
       "                                          "
      ]
     },
     "metadata": {},
     "output_type": "display_data"
    },
    {
     "data": {
      "text/plain": [
       "Confusion Matrix and Statistics\n",
       "\n",
       "       \n",
       "p_dtree FALSE TRUE\n",
       "  FALSE  2605    0\n",
       "  TRUE      0  477\n",
       "                                     \n",
       "               Accuracy : 1          \n",
       "                 95% CI : (0.9988, 1)\n",
       "    No Information Rate : 0.8452     \n",
       "    P-Value [Acc > NIR] : < 2.2e-16  \n",
       "                                     \n",
       "                  Kappa : 1          \n",
       "                                     \n",
       " Mcnemar's Test P-Value : NA         \n",
       "                                     \n",
       "            Sensitivity : 1.0000     \n",
       "            Specificity : 1.0000     \n",
       "         Pos Pred Value : 1.0000     \n",
       "         Neg Pred Value : 1.0000     \n",
       "             Prevalence : 0.8452     \n",
       "         Detection Rate : 0.8452     \n",
       "   Detection Prevalence : 0.8452     \n",
       "      Balanced Accuracy : 1.0000     \n",
       "                                     \n",
       "       'Positive' Class : FALSE      \n",
       "                                     "
      ]
     },
     "metadata": {},
     "output_type": "display_data"
    },
    {
     "data": {
      "text/html": [
       "1"
      ],
      "text/latex": [
       "1"
      ],
      "text/markdown": [
       "1"
      ],
      "text/plain": [
       "[1] 1"
      ]
     },
     "metadata": {},
     "output_type": "display_data"
    },
    {
     "data": {
      "image/png": "[encoded data removed]",
      "text/plain": [
       "plot without title"
      ]
     },
     "metadata": {},
     "output_type": "display_data"
    }
   ],
   "source": [
    "shop1=shop\n",
    "\n",
    "shop1$Revenue<- as.factor(shop1$Revenue)\n",
    "shop1$Weekend<- as.factor(shop1$Weekend)\n",
    "\n",
    "index <- createDataPartition(shop1$Revenue, p=0.75, list=FALSE)\n",
    "train <-shop1[ index,]\n",
    "test <- shop1[-index,]\n",
    "\n",
    "install.packages(\"RWeka\")\n",
    "library(RWeka)\n",
    "fit<-J48(Revenue ~.,data=train)\n",
    "summary(fit)\n",
    "p_tree<-predict(fit,test[,1:17])\n",
    "confusionMatrix(p_tree,test$Revenue)\n",
    "\n",
    "# C5.0 Boosted trees\n",
    "\n",
    "dtree<-C5.0(train,train$Revenue)\n",
    "plot(dtree)\n",
    "\n",
    "p_dtree<-predict(dtree,test)\n",
    "\n",
    "confusionMatrix(table(p_dtree,test$Revenue))\n",
    "Accuracy(p_dtree,test$Revenue)\n",
    "\n",
    "# C5.0 Decision tree produces 100% accuracy\n"
   ]
  },
  {
   "cell_type": "markdown",
   "metadata": {},
   "source": [
    "# KNN Classification"
   ]
  },
  {
   "cell_type": "code",
   "execution_count": 34,
   "metadata": {},
   "outputs": [
    {
     "data": {
      "text/plain": [
       "Confusion Matrix and Statistics\n",
       "\n",
       "        \n",
       "knn_pred    1    2\n",
       "       1 2604  467\n",
       "       2    1   10\n",
       "                                         \n",
       "               Accuracy : 0.8482         \n",
       "                 95% CI : (0.835, 0.8606)\n",
       "    No Information Rate : 0.8452         \n",
       "    P-Value [Acc > NIR] : 0.3378         \n",
       "                                         \n",
       "                  Kappa : 0.0342         \n",
       "                                         \n",
       " Mcnemar's Test P-Value : <2e-16         \n",
       "                                         \n",
       "            Sensitivity : 0.99962        \n",
       "            Specificity : 0.02096        \n",
       "         Pos Pred Value : 0.84793        \n",
       "         Neg Pred Value : 0.90909        \n",
       "             Prevalence : 0.84523        \n",
       "         Detection Rate : 0.84491        \n",
       "   Detection Prevalence : 0.99643        \n",
       "      Balanced Accuracy : 0.51029        \n",
       "                                         \n",
       "       'Positive' Class : 1              \n",
       "                                         "
      ]
     },
     "metadata": {},
     "output_type": "display_data"
    },
    {
     "data": {
      "text/html": [
       "'Accuracy- 0.85'"
      ],
      "text/latex": [
       "'Accuracy- 0.85'"
      ],
      "text/markdown": [
       "'Accuracy- 0.85'"
      ],
      "text/plain": [
       "[1] \"Accuracy- 0.85\""
      ]
     },
     "metadata": {},
     "output_type": "display_data"
    }
   ],
   "source": [
    "shop2=shop\n",
    "\n",
    "shop2$Month=as.numeric(shop1$Month)\n",
    "shop2$VisitorType=as.numeric(shop1$VisitorType)\n",
    "shop2$Weekend=as.numeric(shop1$Weekend)\n",
    "shop2$Revenue=as.numeric(shop1$Revenue) #All the above variables are converted to numeric as KNN takes only numeric inputs\n",
    "\n",
    "index1 <- createDataPartition(shop1$Revenue, p=0.75, list=FALSE)\n",
    "train1 <-shop2[ index1,]\n",
    "test1 <- shop2[-index1,]\n",
    "\n",
    "train1_lab<-train1$Revenue\n",
    "test1_lab<-test1$Revenue\n",
    "\n",
    "normalize <- function(x) {\n",
    " return ((x - min(x)) / (max(x) - min(x)))\n",
    " }\n",
    "  \n",
    "shop2[1:6]<-lapply(shop2[1:6],normalize)\n",
    "\n",
    "knn_pred<-knn(train1,test1,train1_lab,k=111)\n",
    "\n",
    "confusionMatrix(table(knn_pred,test1$Revenue))\n"
   ]
  },
  {
   "cell_type": "markdown",
   "metadata": {},
   "source": [
    "# Logistic Regression"
   ]
  },
  {
   "cell_type": "code",
   "execution_count": 39,
   "metadata": {},
   "outputs": [
    {
     "data": {
      "text/html": [
       "<table>\n",
       "<thead><tr><th></th><th scope=col>Df</th><th scope=col>Deviance</th><th scope=col>Resid. Df</th><th scope=col>Resid. Dev</th><th scope=col>Pr(&gt;Chi)</th></tr></thead>\n",
       "<tbody>\n",
       "\t<tr><th scope=row>NULL</th><td>NA          </td><td>          NA</td><td>9247        </td><td>7968.765    </td><td>          NA</td></tr>\n",
       "\t<tr><th scope=row>Administrative</th><td> 1          </td><td>1.543588e+02</td><td>9246        </td><td>7814.406    </td><td>1.933353e-35</td></tr>\n",
       "\t<tr><th scope=row>Administrative_Duration</th><td> 1          </td><td>9.086668e-02</td><td>9245        </td><td>7814.316    </td><td>7.630782e-01</td></tr>\n",
       "\t<tr><th scope=row>Informational</th><td> 1          </td><td>1.767550e+01</td><td>9244        </td><td>7796.640    </td><td>2.619790e-05</td></tr>\n",
       "\t<tr><th scope=row>Informational_Duration</th><td> 1          </td><td>1.127281e+00</td><td>9243        </td><td>7795.513    </td><td>2.883560e-01</td></tr>\n",
       "\t<tr><th scope=row>ProductRelated</th><td> 1          </td><td>7.101453e+01</td><td>9242        </td><td>7724.498    </td><td>3.546034e-17</td></tr>\n",
       "\t<tr><th scope=row>ProductRelated_Duration</th><td> 1          </td><td>5.409378e+00</td><td>9241        </td><td>7719.089    </td><td>2.002885e-02</td></tr>\n",
       "\t<tr><th scope=row>BounceRates</th><td> 1          </td><td>3.376204e+02</td><td>9240        </td><td>7381.468    </td><td>2.104354e-75</td></tr>\n",
       "\t<tr><th scope=row>ExitRates</th><td> 1          </td><td>2.136181e+02</td><td>9239        </td><td>7167.850    </td><td>2.231155e-48</td></tr>\n",
       "\t<tr><th scope=row>PageValues</th><td> 1          </td><td>1.593979e+03</td><td>9238        </td><td>5573.871    </td><td>0.000000e+00</td></tr>\n",
       "\t<tr><th scope=row>SpecialDay</th><td> 1          </td><td>2.170423e+01</td><td>9237        </td><td>5552.167    </td><td>3.180884e-06</td></tr>\n",
       "\t<tr><th scope=row>Month</th><td> 9          </td><td>1.805190e+02</td><td>9228        </td><td>5371.648    </td><td>3.947894e-34</td></tr>\n",
       "\t<tr><th scope=row>OperatingSystems</th><td> 1          </td><td>2.365102e+00</td><td>9227        </td><td>5369.283    </td><td>1.240758e-01</td></tr>\n",
       "\t<tr><th scope=row>Browser</th><td> 1          </td><td>1.153034e-01</td><td>9226        </td><td>5369.168    </td><td>7.341852e-01</td></tr>\n",
       "\t<tr><th scope=row>Region</th><td> 1          </td><td>1.702936e-01</td><td>9225        </td><td>5368.997    </td><td>6.798510e-01</td></tr>\n",
       "\t<tr><th scope=row>TrafficType</th><td> 1          </td><td>1.239435e+00</td><td>9224        </td><td>5367.758    </td><td>2.655800e-01</td></tr>\n",
       "\t<tr><th scope=row>VisitorType</th><td> 2          </td><td>1.684401e+01</td><td>9222        </td><td>5350.914    </td><td>2.199727e-04</td></tr>\n",
       "\t<tr><th scope=row>Weekend</th><td> 1          </td><td>2.769919e+00</td><td>9221        </td><td>5348.144    </td><td>9.605102e-02</td></tr>\n",
       "</tbody>\n",
       "</table>\n"
      ],
      "text/latex": [
       "\\begin{tabular}{r|lllll}\n",
       "  & Df & Deviance & Resid. Df & Resid. Dev & Pr(>Chi)\\\\\n",
       "\\hline\n",
       "\tNULL & NA           &           NA & 9247         & 7968.765     &           NA\\\\\n",
       "\tAdministrative &  1           & 1.543588e+02 & 9246         & 7814.406     & 1.933353e-35\\\\\n",
       "\tAdministrative\\_Duration &  1           & 9.086668e-02 & 9245         & 7814.316     & 7.630782e-01\\\\\n",
       "\tInformational &  1           & 1.767550e+01 & 9244         & 7796.640     & 2.619790e-05\\\\\n",
       "\tInformational\\_Duration &  1           & 1.127281e+00 & 9243         & 7795.513     & 2.883560e-01\\\\\n",
       "\tProductRelated &  1           & 7.101453e+01 & 9242         & 7724.498     & 3.546034e-17\\\\\n",
       "\tProductRelated\\_Duration &  1           & 5.409378e+00 & 9241         & 7719.089     & 2.002885e-02\\\\\n",
       "\tBounceRates &  1           & 3.376204e+02 & 9240         & 7381.468     & 2.104354e-75\\\\\n",
       "\tExitRates &  1           & 2.136181e+02 & 9239         & 7167.850     & 2.231155e-48\\\\\n",
       "\tPageValues &  1           & 1.593979e+03 & 9238         & 5573.871     & 0.000000e+00\\\\\n",
       "\tSpecialDay &  1           & 2.170423e+01 & 9237         & 5552.167     & 3.180884e-06\\\\\n",
       "\tMonth &  9           & 1.805190e+02 & 9228         & 5371.648     & 3.947894e-34\\\\\n",
       "\tOperatingSystems &  1           & 2.365102e+00 & 9227         & 5369.283     & 1.240758e-01\\\\\n",
       "\tBrowser &  1           & 1.153034e-01 & 9226         & 5369.168     & 7.341852e-01\\\\\n",
       "\tRegion &  1           & 1.702936e-01 & 9225         & 5368.997     & 6.798510e-01\\\\\n",
       "\tTrafficType &  1           & 1.239435e+00 & 9224         & 5367.758     & 2.655800e-01\\\\\n",
       "\tVisitorType &  2           & 1.684401e+01 & 9222         & 5350.914     & 2.199727e-04\\\\\n",
       "\tWeekend &  1           & 2.769919e+00 & 9221         & 5348.144     & 9.605102e-02\\\\\n",
       "\\end{tabular}\n"
      ],
      "text/markdown": [
       "\n",
       "| <!--/--> | Df | Deviance | Resid. Df | Resid. Dev | Pr(>Chi) |\n",
       "|---|---|---|---|---|---|\n",
       "| NULL | NA           |           NA | 9247         | 7968.765     |           NA |\n",
       "| Administrative |  1           | 1.543588e+02 | 9246         | 7814.406     | 1.933353e-35 |\n",
       "| Administrative_Duration |  1           | 9.086668e-02 | 9245         | 7814.316     | 7.630782e-01 |\n",
       "| Informational |  1           | 1.767550e+01 | 9244         | 7796.640     | 2.619790e-05 |\n",
       "| Informational_Duration |  1           | 1.127281e+00 | 9243         | 7795.513     | 2.883560e-01 |\n",
       "| ProductRelated |  1           | 7.101453e+01 | 9242         | 7724.498     | 3.546034e-17 |\n",
       "| ProductRelated_Duration |  1           | 5.409378e+00 | 9241         | 7719.089     | 2.002885e-02 |\n",
       "| BounceRates |  1           | 3.376204e+02 | 9240         | 7381.468     | 2.104354e-75 |\n",
       "| ExitRates |  1           | 2.136181e+02 | 9239         | 7167.850     | 2.231155e-48 |\n",
       "| PageValues |  1           | 1.593979e+03 | 9238         | 5573.871     | 0.000000e+00 |\n",
       "| SpecialDay |  1           | 2.170423e+01 | 9237         | 5552.167     | 3.180884e-06 |\n",
       "| Month |  9           | 1.805190e+02 | 9228         | 5371.648     | 3.947894e-34 |\n",
       "| OperatingSystems |  1           | 2.365102e+00 | 9227         | 5369.283     | 1.240758e-01 |\n",
       "| Browser |  1           | 1.153034e-01 | 9226         | 5369.168     | 7.341852e-01 |\n",
       "| Region |  1           | 1.702936e-01 | 9225         | 5368.997     | 6.798510e-01 |\n",
       "| TrafficType |  1           | 1.239435e+00 | 9224         | 5367.758     | 2.655800e-01 |\n",
       "| VisitorType |  2           | 1.684401e+01 | 9222         | 5350.914     | 2.199727e-04 |\n",
       "| Weekend |  1           | 2.769919e+00 | 9221         | 5348.144     | 9.605102e-02 |\n",
       "\n"
      ],
      "text/plain": [
       "                        Df Deviance     Resid. Df Resid. Dev Pr(>Chi)    \n",
       "NULL                    NA           NA 9247      7968.765             NA\n",
       "Administrative           1 1.543588e+02 9246      7814.406   1.933353e-35\n",
       "Administrative_Duration  1 9.086668e-02 9245      7814.316   7.630782e-01\n",
       "Informational            1 1.767550e+01 9244      7796.640   2.619790e-05\n",
       "Informational_Duration   1 1.127281e+00 9243      7795.513   2.883560e-01\n",
       "ProductRelated           1 7.101453e+01 9242      7724.498   3.546034e-17\n",
       "ProductRelated_Duration  1 5.409378e+00 9241      7719.089   2.002885e-02\n",
       "BounceRates              1 3.376204e+02 9240      7381.468   2.104354e-75\n",
       "ExitRates                1 2.136181e+02 9239      7167.850   2.231155e-48\n",
       "PageValues               1 1.593979e+03 9238      5573.871   0.000000e+00\n",
       "SpecialDay               1 2.170423e+01 9237      5552.167   3.180884e-06\n",
       "Month                    9 1.805190e+02 9228      5371.648   3.947894e-34\n",
       "OperatingSystems         1 2.365102e+00 9227      5369.283   1.240758e-01\n",
       "Browser                  1 1.153034e-01 9226      5369.168   7.341852e-01\n",
       "Region                   1 1.702936e-01 9225      5368.997   6.798510e-01\n",
       "TrafficType              1 1.239435e+00 9224      5367.758   2.655800e-01\n",
       "VisitorType              2 1.684401e+01 9222      5350.914   2.199727e-04\n",
       "Weekend                  1 2.769919e+00 9221      5348.144   9.605102e-02"
      ]
     },
     "metadata": {},
     "output_type": "display_data"
    },
    {
     "data": {
      "text/html": [
       "<table>\n",
       "<thead><tr><th></th><th scope=col>Df</th><th scope=col>Deviance</th><th scope=col>Resid. Df</th><th scope=col>Resid. Dev</th><th scope=col>Pr(&gt;Chi)</th></tr></thead>\n",
       "<tbody>\n",
       "\t<tr><th scope=row>NULL</th><td>NA          </td><td>        NA  </td><td>9247        </td><td>7968.765    </td><td>          NA</td></tr>\n",
       "\t<tr><th scope=row>Administrative</th><td> 1          </td><td> 154.35883  </td><td>9246        </td><td>7814.406    </td><td>1.933353e-35</td></tr>\n",
       "\t<tr><th scope=row>Informational</th><td> 1          </td><td>  17.68025  </td><td>9245        </td><td>7796.726    </td><td>2.613261e-05</td></tr>\n",
       "\t<tr><th scope=row>ProductRelated</th><td> 1          </td><td>  71.49776  </td><td>9244        </td><td>7725.228    </td><td>2.775730e-17</td></tr>\n",
       "\t<tr><th scope=row>BounceRates</th><td> 1          </td><td> 337.23210  </td><td>9243        </td><td>7387.996    </td><td>2.556684e-75</td></tr>\n",
       "\t<tr><th scope=row>ExitRates</th><td> 1          </td><td> 207.11168  </td><td>9242        </td><td>7180.885    </td><td>5.861855e-47</td></tr>\n",
       "\t<tr><th scope=row>PageValues</th><td> 1          </td><td>1601.19073  </td><td>9241        </td><td>5579.694    </td><td>0.000000e+00</td></tr>\n",
       "\t<tr><th scope=row>SpecialDay</th><td> 1          </td><td>  22.17087  </td><td>9240        </td><td>5557.523    </td><td>2.494299e-06</td></tr>\n",
       "\t<tr><th scope=row>Month</th><td> 9          </td><td> 179.34183  </td><td>9231        </td><td>5378.181    </td><td>6.952550e-34</td></tr>\n",
       "\t<tr><th scope=row>VisitorType</th><td> 2          </td><td>  16.98870  </td><td>9229        </td><td>5361.192    </td><td>2.046216e-04</td></tr>\n",
       "</tbody>\n",
       "</table>\n"
      ],
      "text/latex": [
       "\\begin{tabular}{r|lllll}\n",
       "  & Df & Deviance & Resid. Df & Resid. Dev & Pr(>Chi)\\\\\n",
       "\\hline\n",
       "\tNULL & NA           &         NA   & 9247         & 7968.765     &           NA\\\\\n",
       "\tAdministrative &  1           &  154.35883   & 9246         & 7814.406     & 1.933353e-35\\\\\n",
       "\tInformational &  1           &   17.68025   & 9245         & 7796.726     & 2.613261e-05\\\\\n",
       "\tProductRelated &  1           &   71.49776   & 9244         & 7725.228     & 2.775730e-17\\\\\n",
       "\tBounceRates &  1           &  337.23210   & 9243         & 7387.996     & 2.556684e-75\\\\\n",
       "\tExitRates &  1           &  207.11168   & 9242         & 7180.885     & 5.861855e-47\\\\\n",
       "\tPageValues &  1           & 1601.19073   & 9241         & 5579.694     & 0.000000e+00\\\\\n",
       "\tSpecialDay &  1           &   22.17087   & 9240         & 5557.523     & 2.494299e-06\\\\\n",
       "\tMonth &  9           &  179.34183   & 9231         & 5378.181     & 6.952550e-34\\\\\n",
       "\tVisitorType &  2           &   16.98870   & 9229         & 5361.192     & 2.046216e-04\\\\\n",
       "\\end{tabular}\n"
      ],
      "text/markdown": [
       "\n",
       "| <!--/--> | Df | Deviance | Resid. Df | Resid. Dev | Pr(>Chi) |\n",
       "|---|---|---|---|---|---|\n",
       "| NULL | NA           |         NA   | 9247         | 7968.765     |           NA |\n",
       "| Administrative |  1           |  154.35883   | 9246         | 7814.406     | 1.933353e-35 |\n",
       "| Informational |  1           |   17.68025   | 9245         | 7796.726     | 2.613261e-05 |\n",
       "| ProductRelated |  1           |   71.49776   | 9244         | 7725.228     | 2.775730e-17 |\n",
       "| BounceRates |  1           |  337.23210   | 9243         | 7387.996     | 2.556684e-75 |\n",
       "| ExitRates |  1           |  207.11168   | 9242         | 7180.885     | 5.861855e-47 |\n",
       "| PageValues |  1           | 1601.19073   | 9241         | 5579.694     | 0.000000e+00 |\n",
       "| SpecialDay |  1           |   22.17087   | 9240         | 5557.523     | 2.494299e-06 |\n",
       "| Month |  9           |  179.34183   | 9231         | 5378.181     | 6.952550e-34 |\n",
       "| VisitorType |  2           |   16.98870   | 9229         | 5361.192     | 2.046216e-04 |\n",
       "\n"
      ],
      "text/plain": [
       "               Df Deviance   Resid. Df Resid. Dev Pr(>Chi)    \n",
       "NULL           NA         NA 9247      7968.765             NA\n",
       "Administrative  1  154.35883 9246      7814.406   1.933353e-35\n",
       "Informational   1   17.68025 9245      7796.726   2.613261e-05\n",
       "ProductRelated  1   71.49776 9244      7725.228   2.775730e-17\n",
       "BounceRates     1  337.23210 9243      7387.996   2.556684e-75\n",
       "ExitRates       1  207.11168 9242      7180.885   5.861855e-47\n",
       "PageValues      1 1601.19073 9241      5579.694   0.000000e+00\n",
       "SpecialDay      1   22.17087 9240      5557.523   2.494299e-06\n",
       "Month           9  179.34183 9231      5378.181   6.952550e-34\n",
       "VisitorType     2   16.98870 9229      5361.192   2.046216e-04"
      ]
     },
     "metadata": {},
     "output_type": "display_data"
    },
    {
     "data": {
      "text/plain": [
       "Confusion Matrix and Statistics\n",
       "\n",
       "       \n",
       "lg_pred    0    1\n",
       "      0 2539  292\n",
       "      1   66  185\n",
       "                                         \n",
       "               Accuracy : 0.8838         \n",
       "                 95% CI : (0.872, 0.8949)\n",
       "    No Information Rate : 0.8452         \n",
       "    P-Value [Acc > NIR] : 4.644e-10      \n",
       "                                         \n",
       "                  Kappa : 0.4495         \n",
       "                                         \n",
       " Mcnemar's Test P-Value : < 2.2e-16      \n",
       "                                         \n",
       "            Sensitivity : 0.9747         \n",
       "            Specificity : 0.3878         \n",
       "         Pos Pred Value : 0.8969         \n",
       "         Neg Pred Value : 0.7371         \n",
       "             Prevalence : 0.8452         \n",
       "         Detection Rate : 0.8238         \n",
       "   Detection Prevalence : 0.9186         \n",
       "      Balanced Accuracy : 0.6813         \n",
       "                                         \n",
       "       'Positive' Class : 0              \n",
       "                                         "
      ]
     },
     "metadata": {},
     "output_type": "display_data"
    }
   ],
   "source": [
    "shop3=shop\n",
    "\n",
    "index2 <- createDataPartition(shop3$Revenue, p=0.75, list=FALSE)\n",
    "train2 <-shop3[ index2,]\n",
    "test2<- shop3[-index2,]\n",
    "\n",
    "lg_mod<-glm(Revenue ~. ,data=train2,family = binomial(link = \"logit\"))\n",
    "\n",
    "anova(lg_mod,test = \"Chisq\")\n",
    "\n",
    "lg_mod<-glm(Revenue~ Administrative + Informational + ProductRelated + BounceRates + ExitRates + PageValues + SpecialDay +Month + VisitorType,data=train2,family = binomial(link = \"logit\"))\n",
    "\n",
    "anova(lg_mod,test = \"Chisq\")\n",
    "\n",
    "lg_pred <- predict(lg_mod,newdata = test2,type = \"response\")\n",
    "\n",
    "lg_pred=as.numeric(lg_pred)\n",
    "\n",
    "lg_pred=as.factor(round(lg_pred,0))\n",
    "                  \n",
    "test2$Revenue=as.numeric(test2$Revenue)\n",
    "confusionMatrix(table(lg_pred,test2$Revenue))"
   ]
  },
  {
   "cell_type": "markdown",
   "metadata": {},
   "source": [
    "# Naive Bayes"
   ]
  },
  {
   "cell_type": "code",
   "execution_count": 40,
   "metadata": {},
   "outputs": [
    {
     "data": {
      "text/plain": [
       "Confusion Matrix and Statistics\n",
       "\n",
       "          Reference\n",
       "Prediction FALSE TRUE\n",
       "     FALSE  2500   22\n",
       "     TRUE    105  455\n",
       "                                          \n",
       "               Accuracy : 0.9588          \n",
       "                 95% CI : (0.9512, 0.9655)\n",
       "    No Information Rate : 0.8452          \n",
       "    P-Value [Acc > NIR] : < 2.2e-16       \n",
       "                                          \n",
       "                  Kappa : 0.853           \n",
       "                                          \n",
       " Mcnemar's Test P-Value : 3.43e-13        \n",
       "                                          \n",
       "            Sensitivity : 0.9597          \n",
       "            Specificity : 0.9539          \n",
       "         Pos Pred Value : 0.9913          \n",
       "         Neg Pred Value : 0.8125          \n",
       "             Prevalence : 0.8452          \n",
       "         Detection Rate : 0.8112          \n",
       "   Detection Prevalence : 0.8183          \n",
       "      Balanced Accuracy : 0.9568          \n",
       "                                          \n",
       "       'Positive' Class : FALSE           \n",
       "                                          "
      ]
     },
     "metadata": {},
     "output_type": "display_data"
    }
   ],
   "source": [
    "x=train #train & test can be found in the decison tree code block\n",
    "y=train$Revenue\n",
    "\n",
    "model = naiveBayes(x,y)\n",
    "p<- predict(model,test,type=\"class\")\n",
    "\n",
    "confusionMatrix(p,test$Revenue)"
   ]
  },
  {
   "cell_type": "markdown",
   "metadata": {},
   "source": [
    "# Ensemble"
   ]
  },
  {
   "cell_type": "code",
   "execution_count": 43,
   "metadata": {},
   "outputs": [
    {
     "data": {
      "text/plain": [
       "\n",
       "Call:  \n",
       "SuperLearner(Y = y_lab, X = xtrain, family = binomial(), SL.library = list(\"SL.ranger\",  \n",
       "    \"SL.ipredbagg\", \"SL.bayesglm\")) \n",
       "\n",
       "\n",
       "                       Risk       Coef\n",
       "SL.ranger_All    0.06906754 0.67236587\n",
       "SL.ipredbagg_All 0.07166340 0.28860630\n",
       "SL.bayesglm_All  0.08421625 0.03902783"
      ]
     },
     "metadata": {},
     "output_type": "display_data"
    }
   ],
   "source": [
    "set.seed(667)\n",
    "shop3=shop\n",
    "\n",
    "shop3$Revenue<- as.numeric(shop3$Revenue)\n",
    "shop3$Weekend<-as.factor(shop3$Weekend)\n",
    "\n",
    "index3 <- createDataPartition(shop3$Revenue, p=0.75, list=FALSE)\n",
    "train3 <-shop3[ index3,]\n",
    "test3 <- shop3[-index3,]\n",
    "\n",
    "xtrain <- data.frame(train3[,1:17])\n",
    "xtest <- data.frame(test3[,1:17])\n",
    "\n",
    "y_lab=(train3[,18])\n",
    "ytest_lab=as.numeric((test3[,18]))\n",
    "\n",
    "\n",
    "                    #### With Kernel Support Vector Machines, Bayes GLM and Bagging ###\n",
    "\n",
    "# Fit the ensemble model\n",
    "model <- SuperLearner(y_lab,xtrain,family=binomial(),SL.library=list(\"SL.ranger\",\"SL.ipredbagg\",\"SL.bayesglm\"))\n",
    "\n",
    "# BayesGLM for logistic regression,Ranger for random Forest, ipredbagg for Bagging\n",
    "model\n",
    "\n",
    "# We can see the Risk associated with all the three models are quite low "
   ]
  },
  {
   "cell_type": "markdown",
   "metadata": {},
   "source": [
    "# Ensemble prediction"
   ]
  },
  {
   "cell_type": "code",
   "execution_count": 45,
   "metadata": {},
   "outputs": [
    {
     "data": {
      "text/html": [
       "<table>\n",
       "<thead><tr><th scope=col>SL.ranger_All</th><th scope=col>SL.ipredbagg_All</th><th scope=col>SL.bayesglm_All</th></tr></thead>\n",
       "<tbody>\n",
       "\t<tr><td>0.0140000000</td><td>0.03701493  </td><td>0.017986792 </td></tr>\n",
       "\t<tr><td>0.0000000000</td><td>0.03701493  </td><td>0.004495732 </td></tr>\n",
       "\t<tr><td>0.0200927536</td><td>0.03701493  </td><td>0.020863530 </td></tr>\n",
       "\t<tr><td>0.0000000000</td><td>0.03701493  </td><td>0.004715260 </td></tr>\n",
       "\t<tr><td>0.0001538462</td><td>0.03701493  </td><td>0.013720201 </td></tr>\n",
       "\t<tr><td>0.0000000000</td><td>0.03701493  </td><td>0.012605164 </td></tr>\n",
       "</tbody>\n",
       "</table>\n"
      ],
      "text/latex": [
       "\\begin{tabular}{lll}\n",
       " SL.ranger\\_All & SL.ipredbagg\\_All & SL.bayesglm\\_All\\\\\n",
       "\\hline\n",
       "\t 0.0140000000 & 0.03701493   & 0.017986792 \\\\\n",
       "\t 0.0000000000 & 0.03701493   & 0.004495732 \\\\\n",
       "\t 0.0200927536 & 0.03701493   & 0.020863530 \\\\\n",
       "\t 0.0000000000 & 0.03701493   & 0.004715260 \\\\\n",
       "\t 0.0001538462 & 0.03701493   & 0.013720201 \\\\\n",
       "\t 0.0000000000 & 0.03701493   & 0.012605164 \\\\\n",
       "\\end{tabular}\n"
      ],
      "text/markdown": [
       "\n",
       "| SL.ranger_All | SL.ipredbagg_All | SL.bayesglm_All |\n",
       "|---|---|---|\n",
       "| 0.0140000000 | 0.03701493   | 0.017986792  |\n",
       "| 0.0000000000 | 0.03701493   | 0.004495732  |\n",
       "| 0.0200927536 | 0.03701493   | 0.020863530  |\n",
       "| 0.0000000000 | 0.03701493   | 0.004715260  |\n",
       "| 0.0001538462 | 0.03701493   | 0.013720201  |\n",
       "| 0.0000000000 | 0.03701493   | 0.012605164  |\n",
       "\n"
      ],
      "text/plain": [
       "     SL.ranger_All SL.ipredbagg_All SL.bayesglm_All\n",
       "[1,] 0.0140000000  0.03701493       0.017986792    \n",
       "[2,] 0.0000000000  0.03701493       0.004495732    \n",
       "[3,] 0.0200927536  0.03701493       0.020863530    \n",
       "[4,] 0.0000000000  0.03701493       0.004715260    \n",
       "[5,] 0.0001538462  0.03701493       0.013720201    \n",
       "[6,] 0.0000000000  0.03701493       0.012605164    "
      ]
     },
     "metadata": {},
     "output_type": "display_data"
    },
    {
     "data": {
      "text/html": [
       "0.9"
      ],
      "text/latex": [
       "0.9"
      ],
      "text/markdown": [
       "0.9"
      ],
      "text/plain": [
       "[1] 0.9"
      ]
     },
     "metadata": {},
     "output_type": "display_data"
    }
   ],
   "source": [
    "predictions <- predict.SuperLearner(model, newdata=as.data.frame(xtest))\n",
    "\n",
    "head(predictions$library.predict) # Predictions of Individual libraries\n",
    "\n",
    " #Recoding the Probabilities\n",
    "conv.preds <- ifelse(predictions$pred>=0.5,1,0)\n",
    "\n",
    "cm <- Accuracy(conv.preds,ytest_lab)\n",
    "round(cm,2)"
   ]
  }
 ],
 "metadata": {
  "kernelspec": {
   "display_name": "R",
   "language": "R",
   "name": "ir"
  },
  "language_info": {
   "codemirror_mode": "r",
   "file_extension": ".r",
   "mimetype": "text/x-r-source",
   "name": "R",
   "pygments_lexer": "r",
   "version": "3.6.0"
  }
 },
 "nbformat": 4,
 "nbformat_minor": 2
}
