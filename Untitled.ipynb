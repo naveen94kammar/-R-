{
 "cells": [
  {
   "cell_type": "markdown",
   "metadata": {},
   "source": [
    "# KNN classification "
   ]
  },
  {
   "cell_type": "raw",
   "metadata": {},
   "source": [
    "for this tutorial we will be using the the 'Iris' dataset which is an inbuilt dataset in R"
   ]
  },
  {
   "cell_type": "code",
   "execution_count": 1,
   "metadata": {},
   "outputs": [
    {
     "data": {
      "text/plain": [
       "  Sepal.Length    Sepal.Width     Petal.Length    Petal.Width   \n",
       " Min.   :4.300   Min.   :2.000   Min.   :1.000   Min.   :0.100  \n",
       " 1st Qu.:5.100   1st Qu.:2.800   1st Qu.:1.600   1st Qu.:0.300  \n",
       " Median :5.800   Median :3.000   Median :4.350   Median :1.300  \n",
       " Mean   :5.843   Mean   :3.057   Mean   :3.758   Mean   :1.199  \n",
       " 3rd Qu.:6.400   3rd Qu.:3.300   3rd Qu.:5.100   3rd Qu.:1.800  \n",
       " Max.   :7.900   Max.   :4.400   Max.   :6.900   Max.   :2.500  \n",
       "       Species  \n",
       " setosa    :50  \n",
       " versicolor:50  \n",
       " virginica :50  \n",
       "                \n",
       "                \n",
       "                "
      ]
     },
     "metadata": {},
     "output_type": "display_data"
    }
   ],
   "source": [
    "dat<-iris  # Storing the inbuilt Iris dataset into a variable \"dat\"\n",
    "summary(dat)  # Taking a look at the structure of the datset"
   ]
  },
  {
   "cell_type": "raw",
   "metadata": {},
   "source": [
    "As we can see after running a summary there are 3 types of flower groups into which the data is classified based on it's features"
   ]
  },
  {
   "cell_type": "raw",
   "metadata": {},
   "source": [
    "DATA PREPARATION\n",
    "\n",
    "for the classification procedure we first need to jumble the records i.e the rows of the dataset.\n",
    "This will be helpful to us later on when we need to split the datset."
   ]
  },
  {
   "cell_type": "code",
   "execution_count": 2,
   "metadata": {},
   "outputs": [
    {
     "data": {
      "text/html": [
       "<table>\n",
       "<thead><tr><th></th><th scope=col>Sepal.Length</th><th scope=col>Sepal.Width</th><th scope=col>Petal.Length</th><th scope=col>Petal.Width</th><th scope=col>Species</th></tr></thead>\n",
       "<tbody>\n",
       "\t<tr><th scope=row>2</th><td>4.9       </td><td>3.0       </td><td>1.4       </td><td>0.2       </td><td>setosa    </td></tr>\n",
       "\t<tr><th scope=row>91</th><td>5.5       </td><td>2.6       </td><td>4.4       </td><td>1.2       </td><td>versicolor</td></tr>\n",
       "\t<tr><th scope=row>122</th><td>5.6       </td><td>2.8       </td><td>4.9       </td><td>2.0       </td><td>virginica </td></tr>\n",
       "\t<tr><th scope=row>60</th><td>5.2       </td><td>2.7       </td><td>3.9       </td><td>1.4       </td><td>versicolor</td></tr>\n",
       "\t<tr><th scope=row>104</th><td>6.3       </td><td>2.9       </td><td>5.6       </td><td>1.8       </td><td>virginica </td></tr>\n",
       "\t<tr><th scope=row>102</th><td>5.8       </td><td>2.7       </td><td>5.1       </td><td>1.9       </td><td>virginica </td></tr>\n",
       "\t<tr><th scope=row>68</th><td>5.8       </td><td>2.7       </td><td>4.1       </td><td>1.0       </td><td>versicolor</td></tr>\n",
       "\t<tr><th scope=row>3</th><td>4.7       </td><td>3.2       </td><td>1.3       </td><td>0.2       </td><td>setosa    </td></tr>\n",
       "\t<tr><th scope=row>66</th><td>6.7       </td><td>3.1       </td><td>4.4       </td><td>1.4       </td><td>versicolor</td></tr>\n",
       "\t<tr><th scope=row>149</th><td>6.2       </td><td>3.4       </td><td>5.4       </td><td>2.3       </td><td>virginica </td></tr>\n",
       "\t<tr><th scope=row>64</th><td>6.1       </td><td>2.9       </td><td>4.7       </td><td>1.4       </td><td>versicolor</td></tr>\n",
       "\t<tr><th scope=row>46</th><td>4.8       </td><td>3.0       </td><td>1.4       </td><td>0.3       </td><td>setosa    </td></tr>\n",
       "\t<tr><th scope=row>69</th><td>6.2       </td><td>2.2       </td><td>4.5       </td><td>1.5       </td><td>versicolor</td></tr>\n",
       "\t<tr><th scope=row>29</th><td>5.2       </td><td>3.4       </td><td>1.4       </td><td>0.2       </td><td>setosa    </td></tr>\n",
       "\t<tr><th scope=row>131</th><td>7.4       </td><td>2.8       </td><td>6.1       </td><td>1.9       </td><td>virginica </td></tr>\n",
       "\t<tr><th scope=row>19</th><td>5.7       </td><td>3.8       </td><td>1.7       </td><td>0.3       </td><td>setosa    </td></tr>\n",
       "\t<tr><th scope=row>7</th><td>4.6       </td><td>3.4       </td><td>1.4       </td><td>0.3       </td><td>setosa    </td></tr>\n",
       "\t<tr><th scope=row>120</th><td>6.0       </td><td>2.2       </td><td>5.0       </td><td>1.5       </td><td>virginica </td></tr>\n",
       "\t<tr><th scope=row>13</th><td>4.8       </td><td>3.0       </td><td>1.4       </td><td>0.1       </td><td>setosa    </td></tr>\n",
       "\t<tr><th scope=row>101</th><td>6.3       </td><td>3.3       </td><td>6.0       </td><td>2.5       </td><td>virginica </td></tr>\n",
       "\t<tr><th scope=row>6</th><td>5.4       </td><td>3.9       </td><td>1.7       </td><td>0.4       </td><td>setosa    </td></tr>\n",
       "\t<tr><th scope=row>23</th><td>4.6       </td><td>3.6       </td><td>1.0       </td><td>0.2       </td><td>setosa    </td></tr>\n",
       "\t<tr><th scope=row>70</th><td>5.6       </td><td>2.5       </td><td>3.9       </td><td>1.1       </td><td>versicolor</td></tr>\n",
       "\t<tr><th scope=row>100</th><td>5.7       </td><td>2.8       </td><td>4.1       </td><td>1.3       </td><td>versicolor</td></tr>\n",
       "\t<tr><th scope=row>110</th><td>7.2       </td><td>3.6       </td><td>6.1       </td><td>2.5       </td><td>virginica </td></tr>\n",
       "\t<tr><th scope=row>133</th><td>6.4       </td><td>2.8       </td><td>5.6       </td><td>2.2       </td><td>virginica </td></tr>\n",
       "\t<tr><th scope=row>125</th><td>6.7       </td><td>3.3       </td><td>5.7       </td><td>2.1       </td><td>virginica </td></tr>\n",
       "\t<tr><th scope=row>61</th><td>5.0       </td><td>2.0       </td><td>3.5       </td><td>1.0       </td><td>versicolor</td></tr>\n",
       "\t<tr><th scope=row>4</th><td>4.6       </td><td>3.1       </td><td>1.5       </td><td>0.2       </td><td>setosa    </td></tr>\n",
       "\t<tr><th scope=row>97</th><td>5.7       </td><td>2.9       </td><td>4.2       </td><td>1.3       </td><td>versicolor</td></tr>\n",
       "\t<tr><th scope=row>...</th><td>...</td><td>...</td><td>...</td><td>...</td><td>...</td></tr>\n",
       "\t<tr><th scope=row>51</th><td>7.0       </td><td>3.2       </td><td>4.7       </td><td>1.4       </td><td>versicolor</td></tr>\n",
       "\t<tr><th scope=row>5</th><td>5.0       </td><td>3.6       </td><td>1.4       </td><td>0.2       </td><td>setosa    </td></tr>\n",
       "\t<tr><th scope=row>134</th><td>6.3       </td><td>2.8       </td><td>5.1       </td><td>1.5       </td><td>virginica </td></tr>\n",
       "\t<tr><th scope=row>145</th><td>6.7       </td><td>3.3       </td><td>5.7       </td><td>2.5       </td><td>virginica </td></tr>\n",
       "\t<tr><th scope=row>24</th><td>5.1       </td><td>3.3       </td><td>1.7       </td><td>0.5       </td><td>setosa    </td></tr>\n",
       "\t<tr><th scope=row>148</th><td>6.5       </td><td>3.0       </td><td>5.2       </td><td>2.0       </td><td>virginica </td></tr>\n",
       "\t<tr><th scope=row>83</th><td>5.8       </td><td>2.7       </td><td>3.9       </td><td>1.2       </td><td>versicolor</td></tr>\n",
       "\t<tr><th scope=row>55</th><td>6.5       </td><td>2.8       </td><td>4.6       </td><td>1.5       </td><td>versicolor</td></tr>\n",
       "\t<tr><th scope=row>36</th><td>5.0       </td><td>3.2       </td><td>1.2       </td><td>0.2       </td><td>setosa    </td></tr>\n",
       "\t<tr><th scope=row>73</th><td>6.3       </td><td>2.5       </td><td>4.9       </td><td>1.5       </td><td>versicolor</td></tr>\n",
       "\t<tr><th scope=row>79</th><td>6.0       </td><td>2.9       </td><td>4.5       </td><td>1.5       </td><td>versicolor</td></tr>\n",
       "\t<tr><th scope=row>52</th><td>6.4       </td><td>3.2       </td><td>4.5       </td><td>1.5       </td><td>versicolor</td></tr>\n",
       "\t<tr><th scope=row>147</th><td>6.3       </td><td>2.5       </td><td>5.0       </td><td>1.9       </td><td>virginica </td></tr>\n",
       "\t<tr><th scope=row>1</th><td>5.1       </td><td>3.5       </td><td>1.4       </td><td>0.2       </td><td>setosa    </td></tr>\n",
       "\t<tr><th scope=row>37</th><td>5.5       </td><td>3.5       </td><td>1.3       </td><td>0.2       </td><td>setosa    </td></tr>\n",
       "\t<tr><th scope=row>32</th><td>5.4       </td><td>3.4       </td><td>1.5       </td><td>0.4       </td><td>setosa    </td></tr>\n",
       "\t<tr><th scope=row>119</th><td>7.7       </td><td>2.6       </td><td>6.9       </td><td>2.3       </td><td>virginica </td></tr>\n",
       "\t<tr><th scope=row>107</th><td>4.9       </td><td>2.5       </td><td>4.5       </td><td>1.7       </td><td>virginica </td></tr>\n",
       "\t<tr><th scope=row>27</th><td>5.0       </td><td>3.4       </td><td>1.6       </td><td>0.4       </td><td>setosa    </td></tr>\n",
       "\t<tr><th scope=row>8</th><td>5.0       </td><td>3.4       </td><td>1.5       </td><td>0.2       </td><td>setosa    </td></tr>\n",
       "\t<tr><th scope=row>34</th><td>5.5       </td><td>4.2       </td><td>1.4       </td><td>0.2       </td><td>setosa    </td></tr>\n",
       "\t<tr><th scope=row>42</th><td>4.5       </td><td>2.3       </td><td>1.3       </td><td>0.3       </td><td>setosa    </td></tr>\n",
       "\t<tr><th scope=row>139</th><td>6.0       </td><td>3.0       </td><td>4.8       </td><td>1.8       </td><td>virginica </td></tr>\n",
       "\t<tr><th scope=row>28</th><td>5.2       </td><td>3.5       </td><td>1.5       </td><td>0.2       </td><td>setosa    </td></tr>\n",
       "\t<tr><th scope=row>123</th><td>7.7       </td><td>2.8       </td><td>6.7       </td><td>2.0       </td><td>virginica </td></tr>\n",
       "\t<tr><th scope=row>38</th><td>4.9       </td><td>3.6       </td><td>1.4       </td><td>0.1       </td><td>setosa    </td></tr>\n",
       "\t<tr><th scope=row>14</th><td>4.3       </td><td>3.0       </td><td>1.1       </td><td>0.1       </td><td>setosa    </td></tr>\n",
       "\t<tr><th scope=row>43</th><td>4.4       </td><td>3.2       </td><td>1.3       </td><td>0.2       </td><td>setosa    </td></tr>\n",
       "\t<tr><th scope=row>11</th><td>5.4       </td><td>3.7       </td><td>1.5       </td><td>0.2       </td><td>setosa    </td></tr>\n",
       "\t<tr><th scope=row>71</th><td>5.9       </td><td>3.2       </td><td>4.8       </td><td>1.8       </td><td>versicolor</td></tr>\n",
       "</tbody>\n",
       "</table>\n"
      ],
      "text/latex": [
       "\\begin{tabular}{r|lllll}\n",
       "  & Sepal.Length & Sepal.Width & Petal.Length & Petal.Width & Species\\\\\n",
       "\\hline\n",
       "\t2 & 4.9        & 3.0        & 1.4        & 0.2        & setosa    \\\\\n",
       "\t91 & 5.5        & 2.6        & 4.4        & 1.2        & versicolor\\\\\n",
       "\t122 & 5.6        & 2.8        & 4.9        & 2.0        & virginica \\\\\n",
       "\t60 & 5.2        & 2.7        & 3.9        & 1.4        & versicolor\\\\\n",
       "\t104 & 6.3        & 2.9        & 5.6        & 1.8        & virginica \\\\\n",
       "\t102 & 5.8        & 2.7        & 5.1        & 1.9        & virginica \\\\\n",
       "\t68 & 5.8        & 2.7        & 4.1        & 1.0        & versicolor\\\\\n",
       "\t3 & 4.7        & 3.2        & 1.3        & 0.2        & setosa    \\\\\n",
       "\t66 & 6.7        & 3.1        & 4.4        & 1.4        & versicolor\\\\\n",
       "\t149 & 6.2        & 3.4        & 5.4        & 2.3        & virginica \\\\\n",
       "\t64 & 6.1        & 2.9        & 4.7        & 1.4        & versicolor\\\\\n",
       "\t46 & 4.8        & 3.0        & 1.4        & 0.3        & setosa    \\\\\n",
       "\t69 & 6.2        & 2.2        & 4.5        & 1.5        & versicolor\\\\\n",
       "\t29 & 5.2        & 3.4        & 1.4        & 0.2        & setosa    \\\\\n",
       "\t131 & 7.4        & 2.8        & 6.1        & 1.9        & virginica \\\\\n",
       "\t19 & 5.7        & 3.8        & 1.7        & 0.3        & setosa    \\\\\n",
       "\t7 & 4.6        & 3.4        & 1.4        & 0.3        & setosa    \\\\\n",
       "\t120 & 6.0        & 2.2        & 5.0        & 1.5        & virginica \\\\\n",
       "\t13 & 4.8        & 3.0        & 1.4        & 0.1        & setosa    \\\\\n",
       "\t101 & 6.3        & 3.3        & 6.0        & 2.5        & virginica \\\\\n",
       "\t6 & 5.4        & 3.9        & 1.7        & 0.4        & setosa    \\\\\n",
       "\t23 & 4.6        & 3.6        & 1.0        & 0.2        & setosa    \\\\\n",
       "\t70 & 5.6        & 2.5        & 3.9        & 1.1        & versicolor\\\\\n",
       "\t100 & 5.7        & 2.8        & 4.1        & 1.3        & versicolor\\\\\n",
       "\t110 & 7.2        & 3.6        & 6.1        & 2.5        & virginica \\\\\n",
       "\t133 & 6.4        & 2.8        & 5.6        & 2.2        & virginica \\\\\n",
       "\t125 & 6.7        & 3.3        & 5.7        & 2.1        & virginica \\\\\n",
       "\t61 & 5.0        & 2.0        & 3.5        & 1.0        & versicolor\\\\\n",
       "\t4 & 4.6        & 3.1        & 1.5        & 0.2        & setosa    \\\\\n",
       "\t97 & 5.7        & 2.9        & 4.2        & 1.3        & versicolor\\\\\n",
       "\t... & ... & ... & ... & ... & ...\\\\\n",
       "\t51 & 7.0        & 3.2        & 4.7        & 1.4        & versicolor\\\\\n",
       "\t5 & 5.0        & 3.6        & 1.4        & 0.2        & setosa    \\\\\n",
       "\t134 & 6.3        & 2.8        & 5.1        & 1.5        & virginica \\\\\n",
       "\t145 & 6.7        & 3.3        & 5.7        & 2.5        & virginica \\\\\n",
       "\t24 & 5.1        & 3.3        & 1.7        & 0.5        & setosa    \\\\\n",
       "\t148 & 6.5        & 3.0        & 5.2        & 2.0        & virginica \\\\\n",
       "\t83 & 5.8        & 2.7        & 3.9        & 1.2        & versicolor\\\\\n",
       "\t55 & 6.5        & 2.8        & 4.6        & 1.5        & versicolor\\\\\n",
       "\t36 & 5.0        & 3.2        & 1.2        & 0.2        & setosa    \\\\\n",
       "\t73 & 6.3        & 2.5        & 4.9        & 1.5        & versicolor\\\\\n",
       "\t79 & 6.0        & 2.9        & 4.5        & 1.5        & versicolor\\\\\n",
       "\t52 & 6.4        & 3.2        & 4.5        & 1.5        & versicolor\\\\\n",
       "\t147 & 6.3        & 2.5        & 5.0        & 1.9        & virginica \\\\\n",
       "\t1 & 5.1        & 3.5        & 1.4        & 0.2        & setosa    \\\\\n",
       "\t37 & 5.5        & 3.5        & 1.3        & 0.2        & setosa    \\\\\n",
       "\t32 & 5.4        & 3.4        & 1.5        & 0.4        & setosa    \\\\\n",
       "\t119 & 7.7        & 2.6        & 6.9        & 2.3        & virginica \\\\\n",
       "\t107 & 4.9        & 2.5        & 4.5        & 1.7        & virginica \\\\\n",
       "\t27 & 5.0        & 3.4        & 1.6        & 0.4        & setosa    \\\\\n",
       "\t8 & 5.0        & 3.4        & 1.5        & 0.2        & setosa    \\\\\n",
       "\t34 & 5.5        & 4.2        & 1.4        & 0.2        & setosa    \\\\\n",
       "\t42 & 4.5        & 2.3        & 1.3        & 0.3        & setosa    \\\\\n",
       "\t139 & 6.0        & 3.0        & 4.8        & 1.8        & virginica \\\\\n",
       "\t28 & 5.2        & 3.5        & 1.5        & 0.2        & setosa    \\\\\n",
       "\t123 & 7.7        & 2.8        & 6.7        & 2.0        & virginica \\\\\n",
       "\t38 & 4.9        & 3.6        & 1.4        & 0.1        & setosa    \\\\\n",
       "\t14 & 4.3        & 3.0        & 1.1        & 0.1        & setosa    \\\\\n",
       "\t43 & 4.4        & 3.2        & 1.3        & 0.2        & setosa    \\\\\n",
       "\t11 & 5.4        & 3.7        & 1.5        & 0.2        & setosa    \\\\\n",
       "\t71 & 5.9        & 3.2        & 4.8        & 1.8        & versicolor\\\\\n",
       "\\end{tabular}\n"
      ],
      "text/markdown": [
       "\n",
       "| <!--/--> | Sepal.Length | Sepal.Width | Petal.Length | Petal.Width | Species |\n",
       "|---|---|---|---|---|---|\n",
       "| 2 | 4.9        | 3.0        | 1.4        | 0.2        | setosa     |\n",
       "| 91 | 5.5        | 2.6        | 4.4        | 1.2        | versicolor |\n",
       "| 122 | 5.6        | 2.8        | 4.9        | 2.0        | virginica  |\n",
       "| 60 | 5.2        | 2.7        | 3.9        | 1.4        | versicolor |\n",
       "| 104 | 6.3        | 2.9        | 5.6        | 1.8        | virginica  |\n",
       "| 102 | 5.8        | 2.7        | 5.1        | 1.9        | virginica  |\n",
       "| 68 | 5.8        | 2.7        | 4.1        | 1.0        | versicolor |\n",
       "| 3 | 4.7        | 3.2        | 1.3        | 0.2        | setosa     |\n",
       "| 66 | 6.7        | 3.1        | 4.4        | 1.4        | versicolor |\n",
       "| 149 | 6.2        | 3.4        | 5.4        | 2.3        | virginica  |\n",
       "| 64 | 6.1        | 2.9        | 4.7        | 1.4        | versicolor |\n",
       "| 46 | 4.8        | 3.0        | 1.4        | 0.3        | setosa     |\n",
       "| 69 | 6.2        | 2.2        | 4.5        | 1.5        | versicolor |\n",
       "| 29 | 5.2        | 3.4        | 1.4        | 0.2        | setosa     |\n",
       "| 131 | 7.4        | 2.8        | 6.1        | 1.9        | virginica  |\n",
       "| 19 | 5.7        | 3.8        | 1.7        | 0.3        | setosa     |\n",
       "| 7 | 4.6        | 3.4        | 1.4        | 0.3        | setosa     |\n",
       "| 120 | 6.0        | 2.2        | 5.0        | 1.5        | virginica  |\n",
       "| 13 | 4.8        | 3.0        | 1.4        | 0.1        | setosa     |\n",
       "| 101 | 6.3        | 3.3        | 6.0        | 2.5        | virginica  |\n",
       "| 6 | 5.4        | 3.9        | 1.7        | 0.4        | setosa     |\n",
       "| 23 | 4.6        | 3.6        | 1.0        | 0.2        | setosa     |\n",
       "| 70 | 5.6        | 2.5        | 3.9        | 1.1        | versicolor |\n",
       "| 100 | 5.7        | 2.8        | 4.1        | 1.3        | versicolor |\n",
       "| 110 | 7.2        | 3.6        | 6.1        | 2.5        | virginica  |\n",
       "| 133 | 6.4        | 2.8        | 5.6        | 2.2        | virginica  |\n",
       "| 125 | 6.7        | 3.3        | 5.7        | 2.1        | virginica  |\n",
       "| 61 | 5.0        | 2.0        | 3.5        | 1.0        | versicolor |\n",
       "| 4 | 4.6        | 3.1        | 1.5        | 0.2        | setosa     |\n",
       "| 97 | 5.7        | 2.9        | 4.2        | 1.3        | versicolor |\n",
       "| ... | ... | ... | ... | ... | ... |\n",
       "| 51 | 7.0        | 3.2        | 4.7        | 1.4        | versicolor |\n",
       "| 5 | 5.0        | 3.6        | 1.4        | 0.2        | setosa     |\n",
       "| 134 | 6.3        | 2.8        | 5.1        | 1.5        | virginica  |\n",
       "| 145 | 6.7        | 3.3        | 5.7        | 2.5        | virginica  |\n",
       "| 24 | 5.1        | 3.3        | 1.7        | 0.5        | setosa     |\n",
       "| 148 | 6.5        | 3.0        | 5.2        | 2.0        | virginica  |\n",
       "| 83 | 5.8        | 2.7        | 3.9        | 1.2        | versicolor |\n",
       "| 55 | 6.5        | 2.8        | 4.6        | 1.5        | versicolor |\n",
       "| 36 | 5.0        | 3.2        | 1.2        | 0.2        | setosa     |\n",
       "| 73 | 6.3        | 2.5        | 4.9        | 1.5        | versicolor |\n",
       "| 79 | 6.0        | 2.9        | 4.5        | 1.5        | versicolor |\n",
       "| 52 | 6.4        | 3.2        | 4.5        | 1.5        | versicolor |\n",
       "| 147 | 6.3        | 2.5        | 5.0        | 1.9        | virginica  |\n",
       "| 1 | 5.1        | 3.5        | 1.4        | 0.2        | setosa     |\n",
       "| 37 | 5.5        | 3.5        | 1.3        | 0.2        | setosa     |\n",
       "| 32 | 5.4        | 3.4        | 1.5        | 0.4        | setosa     |\n",
       "| 119 | 7.7        | 2.6        | 6.9        | 2.3        | virginica  |\n",
       "| 107 | 4.9        | 2.5        | 4.5        | 1.7        | virginica  |\n",
       "| 27 | 5.0        | 3.4        | 1.6        | 0.4        | setosa     |\n",
       "| 8 | 5.0        | 3.4        | 1.5        | 0.2        | setosa     |\n",
       "| 34 | 5.5        | 4.2        | 1.4        | 0.2        | setosa     |\n",
       "| 42 | 4.5        | 2.3        | 1.3        | 0.3        | setosa     |\n",
       "| 139 | 6.0        | 3.0        | 4.8        | 1.8        | virginica  |\n",
       "| 28 | 5.2        | 3.5        | 1.5        | 0.2        | setosa     |\n",
       "| 123 | 7.7        | 2.8        | 6.7        | 2.0        | virginica  |\n",
       "| 38 | 4.9        | 3.6        | 1.4        | 0.1        | setosa     |\n",
       "| 14 | 4.3        | 3.0        | 1.1        | 0.1        | setosa     |\n",
       "| 43 | 4.4        | 3.2        | 1.3        | 0.2        | setosa     |\n",
       "| 11 | 5.4        | 3.7        | 1.5        | 0.2        | setosa     |\n",
       "| 71 | 5.9        | 3.2        | 4.8        | 1.8        | versicolor |\n",
       "\n"
      ],
      "text/plain": [
       "    Sepal.Length Sepal.Width Petal.Length Petal.Width Species   \n",
       "2   4.9          3.0         1.4          0.2         setosa    \n",
       "91  5.5          2.6         4.4          1.2         versicolor\n",
       "122 5.6          2.8         4.9          2.0         virginica \n",
       "60  5.2          2.7         3.9          1.4         versicolor\n",
       "104 6.3          2.9         5.6          1.8         virginica \n",
       "102 5.8          2.7         5.1          1.9         virginica \n",
       "68  5.8          2.7         4.1          1.0         versicolor\n",
       "3   4.7          3.2         1.3          0.2         setosa    \n",
       "66  6.7          3.1         4.4          1.4         versicolor\n",
       "149 6.2          3.4         5.4          2.3         virginica \n",
       "64  6.1          2.9         4.7          1.4         versicolor\n",
       "46  4.8          3.0         1.4          0.3         setosa    \n",
       "69  6.2          2.2         4.5          1.5         versicolor\n",
       "29  5.2          3.4         1.4          0.2         setosa    \n",
       "131 7.4          2.8         6.1          1.9         virginica \n",
       "19  5.7          3.8         1.7          0.3         setosa    \n",
       "7   4.6          3.4         1.4          0.3         setosa    \n",
       "120 6.0          2.2         5.0          1.5         virginica \n",
       "13  4.8          3.0         1.4          0.1         setosa    \n",
       "101 6.3          3.3         6.0          2.5         virginica \n",
       "6   5.4          3.9         1.7          0.4         setosa    \n",
       "23  4.6          3.6         1.0          0.2         setosa    \n",
       "70  5.6          2.5         3.9          1.1         versicolor\n",
       "100 5.7          2.8         4.1          1.3         versicolor\n",
       "110 7.2          3.6         6.1          2.5         virginica \n",
       "133 6.4          2.8         5.6          2.2         virginica \n",
       "125 6.7          3.3         5.7          2.1         virginica \n",
       "61  5.0          2.0         3.5          1.0         versicolor\n",
       "4   4.6          3.1         1.5          0.2         setosa    \n",
       "97  5.7          2.9         4.2          1.3         versicolor\n",
       "... ...          ...         ...          ...         ...       \n",
       "51  7.0          3.2         4.7          1.4         versicolor\n",
       "5   5.0          3.6         1.4          0.2         setosa    \n",
       "134 6.3          2.8         5.1          1.5         virginica \n",
       "145 6.7          3.3         5.7          2.5         virginica \n",
       "24  5.1          3.3         1.7          0.5         setosa    \n",
       "148 6.5          3.0         5.2          2.0         virginica \n",
       "83  5.8          2.7         3.9          1.2         versicolor\n",
       "55  6.5          2.8         4.6          1.5         versicolor\n",
       "36  5.0          3.2         1.2          0.2         setosa    \n",
       "73  6.3          2.5         4.9          1.5         versicolor\n",
       "79  6.0          2.9         4.5          1.5         versicolor\n",
       "52  6.4          3.2         4.5          1.5         versicolor\n",
       "147 6.3          2.5         5.0          1.9         virginica \n",
       "1   5.1          3.5         1.4          0.2         setosa    \n",
       "37  5.5          3.5         1.3          0.2         setosa    \n",
       "32  5.4          3.4         1.5          0.4         setosa    \n",
       "119 7.7          2.6         6.9          2.3         virginica \n",
       "107 4.9          2.5         4.5          1.7         virginica \n",
       "27  5.0          3.4         1.6          0.4         setosa    \n",
       "8   5.0          3.4         1.5          0.2         setosa    \n",
       "34  5.5          4.2         1.4          0.2         setosa    \n",
       "42  4.5          2.3         1.3          0.3         setosa    \n",
       "139 6.0          3.0         4.8          1.8         virginica \n",
       "28  5.2          3.5         1.5          0.2         setosa    \n",
       "123 7.7          2.8         6.7          2.0         virginica \n",
       "38  4.9          3.6         1.4          0.1         setosa    \n",
       "14  4.3          3.0         1.1          0.1         setosa    \n",
       "43  4.4          3.2         1.3          0.2         setosa    \n",
       "11  5.4          3.7         1.5          0.2         setosa    \n",
       "71  5.9          3.2         4.8          1.8         versicolor"
      ]
     },
     "metadata": {},
     "output_type": "display_data"
    }
   ],
   "source": [
    "set.seed(9317)\n",
    "gp <- runif(nrow(dat)) # runif = random uniform number generator. We are generating the same number of random numbers as the \n",
    "                       # number of rows in 'dat' and storing it in a vector called gp\n",
    "dat[order(gp),] # ordering the dataset randomly according to vector gp. basically mixing the data up\n"
   ]
  },
  {
   "cell_type": "raw",
   "metadata": {},
   "source": [
    "NORMALIZATION\n",
    "\n",
    "The next step will be normalizing the numerical values of our dataset.\n",
    "In the simplest terms, normalization means adjusting values measured on different scales to a notionally common scale\n",
    "There are different types of normalization but for this case we will be using min-max normalizatiopn.\n",
    "The formula for min-max normalization is ---- (x-min)/(max-min)"
   ]
  },
  {
   "cell_type": "code",
   "execution_count": 3,
   "metadata": {},
   "outputs": [],
   "source": [
    "normalize <- function(column) {\n",
    "  return((column - min(column))/(max(column)-min(column)))} # creating a function which takes in a column as an input & \n",
    "                                                            # normalizes it \n",
    "\n",
    "dat2 <-as.data.frame(lapply(dat[,c(1,2,3,4)], normalize))   # applying the normalize function on the columns 1 to 4\n",
    "                                                            # & storing it in a dataframe dat2"
   ]
  },
  {
   "cell_type": "raw",
   "metadata": {},
   "source": [
    "SPLITTING UP THE DATASET\n",
    "\n",
    "I have split the data into 80% for training and the rest for test"
   ]
  },
  {
   "cell_type": "code",
   "execution_count": 4,
   "metadata": {},
   "outputs": [],
   "source": [
    "dat_train <- dat2[1:129, ] # selecting the first 130 rows for training & the rest for test\n",
    "dat_test <- dat2[130:150, ]\n",
    "dat_train_target <-dat[1:129,5] # selecting the classification column\n",
    "dat_test_target <-dat[130:150,5]\n"
   ]
  },
  {
   "cell_type": "raw",
   "metadata": {},
   "source": [
    "KNN ALGORITHM\n",
    "\n",
    "We will be using the class package for this example, so we will need to install the class package\n"
   ]
  },
  {
   "cell_type": "code",
   "execution_count": 5,
   "metadata": {},
   "outputs": [
    {
     "name": "stdout",
     "output_type": "stream",
     "text": [
      "package 'class' successfully unpacked and MD5 sums checked\n",
      "\n",
      "The downloaded binary packages are in\n",
      "\tC:\\Users\\navee\\AppData\\Local\\Temp\\RtmpqgGGAh\\downloaded_packages\n"
     ]
    }
   ],
   "source": [
    "install.packages(\"class\")\n",
    "library(class)\n"
   ]
  },
  {
   "cell_type": "raw",
   "metadata": {},
   "source": [
    "As a rule of thumb - for K we can use the sqrt of the number of observations and prefferably an odd number"
   ]
  },
  {
   "cell_type": "code",
   "execution_count": 14,
   "metadata": {},
   "outputs": [
    {
     "data": {
      "text/html": [
       "<dl class=dl-horizontal>\n",
       "\t<dt>setosa</dt>\n",
       "\t\t<dd>0</dd>\n",
       "\t<dt>versicolor</dt>\n",
       "\t\t<dd>3</dd>\n",
       "\t<dt>virginica</dt>\n",
       "\t\t<dd>18</dd>\n",
       "</dl>\n"
      ],
      "text/latex": [
       "\\begin{description*}\n",
       "\\item[setosa] 0\n",
       "\\item[versicolor] 3\n",
       "\\item[virginica] 18\n",
       "\\end{description*}\n"
      ],
      "text/markdown": [
       "setosa\n",
       ":   0versicolor\n",
       ":   3virginica\n",
       ":   18\n",
       "\n"
      ],
      "text/plain": [
       "    setosa versicolor  virginica \n",
       "         0          3         18 "
      ]
     },
     "metadata": {},
     "output_type": "display_data"
    },
    {
     "name": "stdout",
     "output_type": "stream",
     "text": [
      "[1] 85.71429\n"
     ]
    }
   ],
   "source": [
    "k = ceiling(sqrt(nrow(dat)))\n",
    "\n",
    "predictions<- knn(train=dat_train,test=dat_test,cl=dat_train_target,k) # making the predictions\n",
    "summary(predictions)\n",
    "\n",
    "accuracy <- 100 * sum( dat_test_target == knn.mod)/NROW(dat_test_target) # testing the accuracy of our model\n",
    "print(accuracy)"
   ]
  },
  {
   "cell_type": "raw",
   "metadata": {},
   "source": [
    "TRYING TO IMPROVE OUR MODEL\n",
    "\n",
    "We can try and improve our model by using different values of K. Looping the above code we can get the accuracy of the model  for various values of K.  \n"
   ]
  },
  {
   "cell_type": "code",
   "execution_count": 10,
   "metadata": {},
   "outputs": [
    {
     "name": "stdout",
     "output_type": "stream",
     "text": [
      "1 = 90.47619 \n",
      "2 = 90.47619 \n",
      "3 = 90.47619 \n",
      "4 = 85.71429 \n",
      "5 = 90.47619 \n",
      "6 = 90.47619 \n",
      "7 = 90.47619 \n",
      "8 = 85.71429 \n",
      "9 = 85.71429 \n",
      "10 = 85.71429 \n",
      "11 = 90.47619 \n",
      "12 = 90.47619 \n",
      "13 = 85.71429 \n",
      "14 = 85.71429 \n",
      "15 = 85.71429 \n"
     ]
    }
   ],
   "source": [
    "i=1     \n",
    "k.optm=1\n",
    " for (i in 1:15){ \n",
    "    knn.mod <-  knn(train=dat_train,test=dat_test,cl=dat_train_target,k=i)\n",
    "    k.optm[i] <- (100 * sum( dat_test_target == knn.mod)/NROW(dat_test_target))\n",
    "    k=i  \n",
    "    cat(k,'=',k.optm[i],'\\n')       # to print accuracy \n",
    "}\n",
    "\n"
   ]
  }
 ],
 "metadata": {
  "kernelspec": {
   "display_name": "R",
   "language": "R",
   "name": "ir"
  },
  "language_info": {
   "codemirror_mode": "r",
   "file_extension": ".r",
   "mimetype": "text/x-r-source",
   "name": "R",
   "pygments_lexer": "r",
   "version": "3.6.0"
  }
 },
 "nbformat": 4,
 "nbformat_minor": 2
}
